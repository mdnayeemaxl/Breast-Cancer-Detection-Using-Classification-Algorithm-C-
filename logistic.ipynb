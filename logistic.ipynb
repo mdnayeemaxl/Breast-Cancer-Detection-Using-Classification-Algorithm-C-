{
 "cells": [
  {
   "cell_type": "code",
   "execution_count": 2,
   "metadata": {},
   "outputs": [
    {
     "data": {
      "text/plain": [
       "<matplotlib.axes._subplots.AxesSubplot at 0x1dabd98f308>"
      ]
     },
     "execution_count": 2,
     "metadata": {},
     "output_type": "execute_result"
    }
   ],
   "source": [
    "import pandas as pd\n",
    "import numpy as np\n",
    "import seaborn as sns\n",
    "import matplotlib.pyplot as polt\n",
    "cancer = pd.read_csv('cancer.csv')\n",
    "sns.countplot(x=\"Class\",data=cancer)"
   ]
  },
  {
   "cell_type": "code",
   "execution_count": 3,
   "metadata": {},
   "outputs": [
    {
     "data": {
      "text/plain": [
       "<matplotlib.axes._subplots.AxesSubplot at 0x1dabddde9c8>"
      ]
     },
     "execution_count": 3,
     "metadata": {},
     "output_type": "execute_result"
    },
    {
     "data": {
      "image/png": "[encoded data removed]",
      "text/plain": [
       "<Figure size 432x288 with 1 Axes>"
      ]
     },
     "metadata": {
      "needs_background": "light"
     },
     "output_type": "display_data"
    }
   ],
   "source": [
    "sns.countplot(x=\"Class\",hue=\"Age\",data=cancer)"
   ]
  },
  {
   "cell_type": "code",
   "execution_count": 4,
   "metadata": {},
   "outputs": [
    {
     "data": {
      "text/plain": [
       "<matplotlib.axes._subplots.AxesSubplot at 0x1dabde86d48>"
      ]
     },
     "execution_count": 4,
     "metadata": {},
     "output_type": "execute_result"
    },
    {
     "data": {
      "image/png": "[encoded data removed]",
      "text/plain": [
       "<Figure size 432x288 with 1 Axes>"
      ]
     },
     "metadata": {
      "needs_background": "light"
     },
     "output_type": "display_data"
    }
   ],
   "source": [
    "sns.countplot(x=\"Class\",hue=\"Menopause\",data=cancer)"
   ]
  },
  {
   "cell_type": "code",
   "execution_count": 5,
   "metadata": {},
   "outputs": [
    {
     "name": "stdout",
     "output_type": "stream",
     "text": [
      "<class 'pandas.core.frame.DataFrame'>\n",
      "RangeIndex: 285 entries, 0 to 284\n",
      "Data columns (total 10 columns):\n",
      "Class         285 non-null object\n",
      "Age           285 non-null object\n",
      "Menopause     285 non-null object\n",
      "Tsize         285 non-null object\n",
      "InvNodes      252 non-null object\n",
      "NodeCaps      285 non-null object\n",
      "DegMalig      285 non-null int64\n",
      "Breast        285 non-null object\n",
      "BreastQuad    285 non-null object\n",
      "Irradi        285 non-null object\n",
      "dtypes: int64(1), object(9)\n",
      "memory usage: 22.4+ KB\n"
     ]
    }
   ],
   "source": [
    "cancer.info()"
   ]
  },
  {
   "cell_type": "code",
   "execution_count": 6,
   "metadata": {},
   "outputs": [
    {
     "name": "stdout",
     "output_type": "stream",
     "text": [
      "     Class  Age  Menopause  Tsize InvNodes  NodeCaps  DegMalig  Breast  \\\n",
      "0        0    2          2      3      0-2         1         2       1   \n",
      "1        0    2          2      3      0-2         1         2       0   \n",
      "2        0    4          0      2      0-2         1         2       1   \n",
      "3        0    2          2      0      0-2         1         2       1   \n",
      "4        0    4          0      2      0-2         1         2       0   \n",
      "..     ...  ...        ...    ...      ...       ...       ...     ...   \n",
      "280      1    1          2      5      0-2         1         2       0   \n",
      "281      1    1          2      3      0-2         1         3       0   \n",
      "282      1    4          0      3      0-2         1         1       1   \n",
      "283      1    2          0      5      NaN         1         3       0   \n",
      "284      1    3          0      5      NaN         1         3       0   \n",
      "\n",
      "     BreastQuad  Irradi  \n",
      "0             4       0  \n",
      "1             1       0  \n",
      "2             2       0  \n",
      "3             3       0  \n",
      "4             1       0  \n",
      "..          ...     ...  \n",
      "280           2       0  \n",
      "281           2       1  \n",
      "282           2       0  \n",
      "283           1       0  \n",
      "284           1       0  \n",
      "\n",
      "[285 rows x 10 columns]\n"
     ]
    }
   ],
   "source": [
    "from sklearn.preprocessing import LabelEncoder\n",
    "labelencoder_X = LabelEncoder()\n",
    "cancer['Class'] = labelencoder_X.fit_transform(cancer.Class)\n",
    "cancer['Age'] = labelencoder_X.fit_transform(cancer.Age)\n",
    "cancer['Menopause'] = labelencoder_X.fit_transform(cancer.Menopause)\n",
    "cancer['Tsize'] = labelencoder_X.fit_transform(cancer.Tsize)\n",
    "cancer['NodeCaps'] = labelencoder_X.fit_transform(cancer.NodeCaps)\n",
    "cancer['Breast'] = labelencoder_X.fit_transform(cancer.Breast)\n",
    "cancer['BreastQuad'] = labelencoder_X.fit_transform(cancer.BreastQuad)\n",
    "cancer['Irradi'] = labelencoder_X.fit_transform(cancer.Irradi)\n",
    "print(cancer)"
   ]
  },
  {
   "cell_type": "code",
   "execution_count": 7,
   "metadata": {},
   "outputs": [
    {
     "data": {
      "text/html": [
       "<div>\n",
       "<style scoped>\n",
       "    .dataframe tbody tr th:only-of-type {\n",
       "        vertical-align: middle;\n",
       "    }\n",
       "\n",
       "    .dataframe tbody tr th {\n",
       "        vertical-align: top;\n",
       "    }\n",
       "\n",
       "    .dataframe thead th {\n",
       "        text-align: right;\n",
       "    }\n",
       "</style>\n",
       "<table border=\"1\" class=\"dataframe\">\n",
       "  <thead>\n",
       "    <tr style=\"text-align: right;\">\n",
       "      <th></th>\n",
       "      <th>Class</th>\n",
       "      <th>Age</th>\n",
       "      <th>Menopause</th>\n",
       "      <th>Tsize</th>\n",
       "      <th>InvNodes</th>\n",
       "      <th>NodeCaps</th>\n",
       "      <th>DegMalig</th>\n",
       "      <th>Breast</th>\n",
       "      <th>BreastQuad</th>\n",
       "      <th>Irradi</th>\n",
       "    </tr>\n",
       "  </thead>\n",
       "  <tbody>\n",
       "    <tr>\n",
       "      <td>0</td>\n",
       "      <td>False</td>\n",
       "      <td>False</td>\n",
       "      <td>False</td>\n",
       "      <td>False</td>\n",
       "      <td>False</td>\n",
       "      <td>False</td>\n",
       "      <td>False</td>\n",
       "      <td>False</td>\n",
       "      <td>False</td>\n",
       "      <td>False</td>\n",
       "    </tr>\n",
       "    <tr>\n",
       "      <td>1</td>\n",
       "      <td>False</td>\n",
       "      <td>False</td>\n",
       "      <td>False</td>\n",
       "      <td>False</td>\n",
       "      <td>False</td>\n",
       "      <td>False</td>\n",
       "      <td>False</td>\n",
       "      <td>False</td>\n",
       "      <td>False</td>\n",
       "      <td>False</td>\n",
       "    </tr>\n",
       "    <tr>\n",
       "      <td>2</td>\n",
       "      <td>False</td>\n",
       "      <td>False</td>\n",
       "      <td>False</td>\n",
       "      <td>False</td>\n",
       "      <td>False</td>\n",
       "      <td>False</td>\n",
       "      <td>False</td>\n",
       "      <td>False</td>\n",
       "      <td>False</td>\n",
       "      <td>False</td>\n",
       "    </tr>\n",
       "    <tr>\n",
       "      <td>3</td>\n",
       "      <td>False</td>\n",
       "      <td>False</td>\n",
       "      <td>False</td>\n",
       "      <td>False</td>\n",
       "      <td>False</td>\n",
       "      <td>False</td>\n",
       "      <td>False</td>\n",
       "      <td>False</td>\n",
       "      <td>False</td>\n",
       "      <td>False</td>\n",
       "    </tr>\n",
       "    <tr>\n",
       "      <td>4</td>\n",
       "      <td>False</td>\n",
       "      <td>False</td>\n",
       "      <td>False</td>\n",
       "      <td>False</td>\n",
       "      <td>False</td>\n",
       "      <td>False</td>\n",
       "      <td>False</td>\n",
       "      <td>False</td>\n",
       "      <td>False</td>\n",
       "      <td>False</td>\n",
       "    </tr>\n",
       "    <tr>\n",
       "      <td>...</td>\n",
       "      <td>...</td>\n",
       "      <td>...</td>\n",
       "      <td>...</td>\n",
       "      <td>...</td>\n",
       "      <td>...</td>\n",
       "      <td>...</td>\n",
       "      <td>...</td>\n",
       "      <td>...</td>\n",
       "      <td>...</td>\n",
       "      <td>...</td>\n",
       "    </tr>\n",
       "    <tr>\n",
       "      <td>280</td>\n",
       "      <td>False</td>\n",
       "      <td>False</td>\n",
       "      <td>False</td>\n",
       "      <td>False</td>\n",
       "      <td>False</td>\n",
       "      <td>False</td>\n",
       "      <td>False</td>\n",
       "      <td>False</td>\n",
       "      <td>False</td>\n",
       "      <td>False</td>\n",
       "    </tr>\n",
       "    <tr>\n",
       "      <td>281</td>\n",
       "      <td>False</td>\n",
       "      <td>False</td>\n",
       "      <td>False</td>\n",
       "      <td>False</td>\n",
       "      <td>False</td>\n",
       "      <td>False</td>\n",
       "      <td>False</td>\n",
       "      <td>False</td>\n",
       "      <td>False</td>\n",
       "      <td>False</td>\n",
       "    </tr>\n",
       "    <tr>\n",
       "      <td>282</td>\n",
       "      <td>False</td>\n",
       "      <td>False</td>\n",
       "      <td>False</td>\n",
       "      <td>False</td>\n",
       "      <td>False</td>\n",
       "      <td>False</td>\n",
       "      <td>False</td>\n",
       "      <td>False</td>\n",
       "      <td>False</td>\n",
       "      <td>False</td>\n",
       "    </tr>\n",
       "    <tr>\n",
       "      <td>283</td>\n",
       "      <td>False</td>\n",
       "      <td>False</td>\n",
       "      <td>False</td>\n",
       "      <td>False</td>\n",
       "      <td>True</td>\n",
       "      <td>False</td>\n",
       "      <td>False</td>\n",
       "      <td>False</td>\n",
       "      <td>False</td>\n",
       "      <td>False</td>\n",
       "    </tr>\n",
       "    <tr>\n",
       "      <td>284</td>\n",
       "      <td>False</td>\n",
       "      <td>False</td>\n",
       "      <td>False</td>\n",
       "      <td>False</td>\n",
       "      <td>True</td>\n",
       "      <td>False</td>\n",
       "      <td>False</td>\n",
       "      <td>False</td>\n",
       "      <td>False</td>\n",
       "      <td>False</td>\n",
       "    </tr>\n",
       "  </tbody>\n",
       "</table>\n",
       "<p>285 rows × 10 columns</p>\n",
       "</div>"
      ],
      "text/plain": [
       "     Class    Age  Menopause  Tsize  InvNodes  NodeCaps  DegMalig  Breast  \\\n",
       "0    False  False      False  False     False     False     False   False   \n",
       "1    False  False      False  False     False     False     False   False   \n",
       "2    False  False      False  False     False     False     False   False   \n",
       "3    False  False      False  False     False     False     False   False   \n",
       "4    False  False      False  False     False     False     False   False   \n",
       "..     ...    ...        ...    ...       ...       ...       ...     ...   \n",
       "280  False  False      False  False     False     False     False   False   \n",
       "281  False  False      False  False     False     False     False   False   \n",
       "282  False  False      False  False     False     False     False   False   \n",
       "283  False  False      False  False      True     False     False   False   \n",
       "284  False  False      False  False      True     False     False   False   \n",
       "\n",
       "     BreastQuad  Irradi  \n",
       "0         False   False  \n",
       "1         False   False  \n",
       "2         False   False  \n",
       "3         False   False  \n",
       "4         False   False  \n",
       "..          ...     ...  \n",
       "280       False   False  \n",
       "281       False   False  \n",
       "282       False   False  \n",
       "283       False   False  \n",
       "284       False   False  \n",
       "\n",
       "[285 rows x 10 columns]"
      ]
     },
     "execution_count": 7,
     "metadata": {},
     "output_type": "execute_result"
    }
   ],
   "source": [
    "cancer.isnull()"
   ]
  },
  {
   "cell_type": "code",
   "execution_count": 8,
   "metadata": {},
   "outputs": [
    {
     "data": {
      "text/plain": [
       "Class          0\n",
       "Age            0\n",
       "Menopause      0\n",
       "Tsize          0\n",
       "InvNodes      33\n",
       "NodeCaps       0\n",
       "DegMalig       0\n",
       "Breast         0\n",
       "BreastQuad     0\n",
       "Irradi         0\n",
       "dtype: int64"
      ]
     },
     "execution_count": 8,
     "metadata": {},
     "output_type": "execute_result"
    }
   ],
   "source": [
    "cancer.isnull().sum()"
   ]
  },
  {
   "cell_type": "code",
   "execution_count": 9,
   "metadata": {},
   "outputs": [],
   "source": [
    "cancer.drop(cancer.columns[[4]], axis = 1, inplace=True)"
   ]
  },
  {
   "cell_type": "code",
   "execution_count": 10,
   "metadata": {},
   "outputs": [
    {
     "data": {
      "text/plain": [
       "Class         0\n",
       "Age           0\n",
       "Menopause     0\n",
       "Tsize         0\n",
       "NodeCaps      0\n",
       "DegMalig      0\n",
       "Breast        0\n",
       "BreastQuad    0\n",
       "Irradi        0\n",
       "dtype: int64"
      ]
     },
     "execution_count": 10,
     "metadata": {},
     "output_type": "execute_result"
    }
   ],
   "source": [
    "cancer.isnull().sum()"
   ]
  },
  {
   "cell_type": "code",
   "execution_count": 11,
   "metadata": {},
   "outputs": [
    {
     "name": "stdout",
     "output_type": "stream",
     "text": [
      "Execution time: 0.10339 seconds \n",
      "\n",
      "              precision    recall  f1-score   support\n",
      "\n",
      "           0       0.76      0.90      0.83        61\n",
      "           1       0.57      0.32      0.41        25\n",
      "\n",
      "    accuracy                           0.73        86\n",
      "   macro avg       0.67      0.61      0.62        86\n",
      "weighted avg       0.71      0.73      0.71        86\n",
      "\n",
      "confusion matrix:\n",
      "[[55  6]\n",
      " [17  8]]\n",
      "Mean absolute error:  0.26744186046511625\n",
      "kappa score:  0.25470987189148464\n"
     ]
    },
    {
     "name": "stderr",
     "output_type": "stream",
     "text": [
      "C:\\ProgramData\\Anaconda3\\lib\\site-packages\\sklearn\\linear_model\\logistic.py:432: FutureWarning: Default solver will be changed to 'lbfgs' in 0.22. Specify a solver to silence this warning.\n",
      "  FutureWarning)\n"
     ]
    }
   ],
   "source": [
    "X=cancer.drop(\"Class\",axis=1)\n",
    "Y=cancer[\"Class\"]\n",
    "\n",
    "import time\n",
    "\n",
    "from sklearn.model_selection import train_test_split\n",
    "X_train,X_test,Y_train,Y_test=train_test_split(X,Y,test_size=0.3,random_state=1)\n",
    "\n",
    "from sklearn.linear_model import LogisticRegression\n",
    "start = time.time()\n",
    "logmodel=LogisticRegression()\n",
    "logmodel.fit(X_train,Y_train)\n",
    "Y_predict=logmodel.predict(X_test)\n",
    "end = time.time()\n",
    "\n",
    "print(\"Execution time: %s seconds \\n\" % \"{0:.5}\".format(end-start))\n",
    "\n",
    "\n",
    "from sklearn.metrics import classification_report\n",
    "print(classification_report(Y_test,Y_predict))\n",
    "\n",
    "from sklearn import metrics\n",
    "print(\"confusion matrix:\")\n",
    "print(metrics.confusion_matrix(Y_test,Y_predict))\n",
    "\n",
    "mean_absolute_error = metrics.mean_absolute_error(Y_test,Y_predict, sample_weight=None, multioutput='uniform_average')\n",
    "print(\"Mean absolute error: \",mean_absolute_error)\n",
    "\n",
    "kappa_score = metrics.cohen_kappa_score(Y_test,Y_predict, labels=None, weights=None, sample_weight=None)\n",
    "print(\"kappa score: \",kappa_score)"
   ]
  },
  {
   "cell_type": "code",
   "execution_count": null,
   "metadata": {},
   "outputs": [],
   "source": []
  },
  {
   "cell_type": "code",
   "execution_count": null,
   "metadata": {},
   "outputs": [],
   "source": []
  },
  {
   "cell_type": "code",
   "execution_count": null,
   "metadata": {},
   "outputs": [],
   "source": []
  }
 ],
 "metadata": {
  "kernelspec": {
   "display_name": "Python 3",
   "language": "python",
   "name": "python3"
  },
  "language_info": {
   "codemirror_mode": {
    "name": "ipython",
    "version": 3
   },
   "file_extension": ".py",
   "mimetype": "text/x-python",
   "name": "python",
   "nbconvert_exporter": "python",
   "pygments_lexer": "ipython3",
   "version": "3.7.4"
  }
 },
 "nbformat": 4,
 "nbformat_minor": 2
}
