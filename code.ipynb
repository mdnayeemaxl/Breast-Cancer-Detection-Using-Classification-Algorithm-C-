
import pandas as pd
import numpy as np
import seaborn as sns
import matplotlib.pyplot as polt

cancer = pd.read_csv('cancer.csv')

sns.countplot(x="Class",data=cancer)

sns.countplot(x="Class",hue="Age",data=cancer)

sns.countplot(x="Class",hue="Menopause",data=cancer)

cancer.info()

from sklearn.preprocessing import LabelEncoder
labelencoder_X = LabelEncoder()
cancer['Class'] = labelencoder_X.fit_transform(cancer.Class)
cancer['Age'] = labelencoder_X.fit_transform(cancer.Age)
cancer['Menopause'] = labelencoder_X.fit_transform(cancer.Menopause)
cancer['Tsize'] = labelencoder_X.fit_transform(cancer.Tsize)
cancer['NodeCaps'] = labelencoder_X.fit_transform(cancer.NodeCaps)
cancer['Breast'] = labelencoder_X.fit_transform(cancer.Breast)
cancer['BreastQuad'] = labelencoder_X.fit_transform(cancer.BreastQuad)
cancer['Irradi'] = labelencoder_X.fit_transform(cancer.Irradi)
print(cancer)

cancer.isnull()

cancer.isnull().sum()

cancer.drop(cancer.columns[[4]], axis = 1, inplace=True)

cancer.isnull().sum()

X=cancer.drop("Class",axis=1)
Y=cancer["Class"]

from sklearn.model_selection import train_test_split
X_train,X_test,Y_train,Y_test=train_test_split(X,Y,test_size=0.3,random_state=1)
from sklearn.naive_bayes import GaussianNB
gnb = GaussianNB()
gnb.fit(X_train,Y_train)
Y_predict=gnb.predict(X_test)
from sklearn.metrics import classification_report
print(classification_report(Y_test,Y_predict))
from sklearn import metrics
print("confusion matrix:")
print(metrics.confusion_matrix(Y_test,Y_predict))

