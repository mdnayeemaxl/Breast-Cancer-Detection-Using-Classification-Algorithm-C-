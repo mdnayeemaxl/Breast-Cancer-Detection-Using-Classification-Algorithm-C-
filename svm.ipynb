{
 "cells": [
  {
   "cell_type": "code",
   "execution_count": 1,
   "metadata": {},
   "outputs": [
    {
     "name": "stdout",
     "output_type": "stream",
     "text": [
      "              precision    recall  f1-score   support\n",
      "\n",
      "           0       0.78      0.84      0.81        61\n",
      "           1       0.52      0.44      0.48        25\n",
      "\n",
      "    accuracy                           0.72        86\n",
      "   macro avg       0.65      0.64      0.64        86\n",
      "weighted avg       0.71      0.72      0.71        86\n",
      "\n",
      "confusion matrix:\n",
      "[[51 10]\n",
      " [14 11]]\n"
     ]
    }
   ],
   "source": [
    "import pandas as pd\n",
    "import numpy as np\n",
    "import seaborn as sns\n",
    "import matplotlib.pyplot as polt\n",
    "\n",
    "cancer = pd.read_csv('cancer.csv')\n",
    "\n",
    "\n",
    "from sklearn.preprocessing import LabelEncoder\n",
    "labelencoder_X = LabelEncoder()\n",
    "cancer['Class'] = labelencoder_X.fit_transform(cancer.Class)\n",
    "cancer['Age'] = labelencoder_X.fit_transform(cancer.Age)\n",
    "cancer['Menopause'] = labelencoder_X.fit_transform(cancer.Menopause)\n",
    "cancer['Tsize'] = labelencoder_X.fit_transform(cancer.Tsize)\n",
    "cancer['NodeCaps'] = labelencoder_X.fit_transform(cancer.NodeCaps)\n",
    "cancer['Breast'] = labelencoder_X.fit_transform(cancer.Breast)\n",
    "cancer['BreastQuad'] = labelencoder_X.fit_transform(cancer.BreastQuad)\n",
    "cancer['Irradi'] = labelencoder_X.fit_transform(cancer.Irradi)\n",
    "\n",
    "cancer.drop(cancer.columns[[4]], axis = 1, inplace=True)\n",
    "\n",
    "X=cancer.drop(\"Class\",axis=1)\n",
    "Y=cancer[\"Class\"]\n",
    "\n",
    "from sklearn.model_selection import train_test_split\n",
    "X_train,X_test,Y_train,Y_test=train_test_split(X,Y,test_size=0.3,random_state=1)\n",
    "\n",
    "#from sklearn.naive_bayes import GaussianNB\n",
    "#gnb = GaussianNB()\n",
    "\n",
    "from sklearn import svm\n",
    "classifier=svm.SVC(kernel='linear',gamma='auto',C=2)\n",
    "\n",
    "classifier.fit(X_train,Y_train)\n",
    "Y_predict=classifier.predict(X_test)\n",
    "\n",
    "from sklearn.metrics import classification_report\n",
    "print(classification_report(Y_test,Y_predict))\n",
    "\n",
    "from sklearn import metrics\n",
    "print(\"confusion matrix:\")\n",
    "print(metrics.confusion_matrix(Y_test,Y_predict))"
   ]
  },
  {
   "cell_type": "code",
   "execution_count": 3,
   "metadata": {},
   "outputs": [
    {
     "name": "stdout",
     "output_type": "stream",
     "text": [
      "              precision    recall  f1-score   support\n",
      "\n",
      "           0       0.76      0.74      0.75        61\n",
      "           1       0.41      0.44      0.42        25\n",
      "\n",
      "    accuracy                           0.65        86\n",
      "   macro avg       0.59      0.59      0.59        86\n",
      "weighted avg       0.66      0.65      0.65        86\n",
      "\n",
      "confusion matrix:\n",
      "[[45 16]\n",
      " [14 11]]\n"
     ]
    }
   ],
   "source": [
    "from sklearn.svm import SVC\n",
    "pclassifier = SVC(kernel='poly', degree=8, gamma='auto')\n",
    "pclassifier.fit(X_train,Y_train)\n",
    "Y_predict=pclassifier.predict(X_test)\n",
    "\n",
    "from sklearn.metrics import classification_report\n",
    "print(classification_report(Y_test,Y_predict))\n",
    "\n",
    "from sklearn import metrics\n",
    "print(\"confusion matrix:\")\n",
    "print(metrics.confusion_matrix(Y_test,Y_predict))"
   ]
  },
  {
   "cell_type": "code",
   "execution_count": 4,
   "metadata": {},
   "outputs": [
    {
     "name": "stdout",
     "output_type": "stream",
     "text": [
      "Execution time: 0.0050223 seconds \n",
      "\n",
      "classification report: \n",
      "              precision    recall  f1-score   support\n",
      "\n",
      "           0       0.73      1.00      0.85        61\n",
      "           1       1.00      0.12      0.21        25\n",
      "\n",
      "    accuracy                           0.74        86\n",
      "   macro avg       0.87      0.56      0.53        86\n",
      "weighted avg       0.81      0.74      0.66        86\n",
      "\n",
      "confusion matrix:\n",
      "[[61  0]\n",
      " [22  3]]\n",
      "Mean absolute error:  0.2558139534883721\n",
      "kappa score:  0.16209034543844103\n"
     ]
    }
   ],
   "source": [
    "import time\n",
    "\n",
    "from sklearn.svm import SVC\n",
    "svclassifier = SVC(kernel='rbf', gamma='auto')\n",
    "\n",
    "start = time.time()\n",
    "svclassifier.fit(X_train, Y_train)\n",
    "Y_predict=svclassifier.predict(X_test)\n",
    "end = time.time()\n",
    "\n",
    "\n",
    "print(\"Execution time: %s seconds \\n\" % \"{0:.5}\".format(end-start))\n",
    "\n",
    "print(\"classification report: \")\n",
    "\n",
    "\n",
    "from sklearn.metrics import classification_report\n",
    "print(classification_report(Y_test,Y_predict))\n",
    "\n",
    "from sklearn import metrics\n",
    "print(\"confusion matrix:\")\n",
    "print(metrics.confusion_matrix(Y_test,Y_predict))\n",
    "\n",
    "mean_absolute_error = metrics.mean_absolute_error(Y_test,Y_predict, sample_weight=None, multioutput='uniform_average')\n",
    "print(\"Mean absolute error: \",mean_absolute_error)\n",
    "\n",
    "kappa_score = metrics.cohen_kappa_score(Y_test,Y_predict, labels=None, weights=None, sample_weight=None)\n",
    "print(\"kappa score: \",kappa_score)"
   ]
  },
  {
   "cell_type": "code",
   "execution_count": 5,
   "metadata": {},
   "outputs": [
    {
     "name": "stdout",
     "output_type": "stream",
     "text": [
      "              precision    recall  f1-score   support\n",
      "\n",
      "           0       0.70      0.93      0.80        61\n",
      "           1       0.20      0.04      0.07        25\n",
      "\n",
      "    accuracy                           0.67        86\n",
      "   macro avg       0.45      0.49      0.43        86\n",
      "weighted avg       0.56      0.67      0.59        86\n",
      "\n",
      "confusion matrix:\n",
      "[[57  4]\n",
      " [24  1]]\n"
     ]
    }
   ],
   "source": [
    "from sklearn.svm import SVC\n",
    "svclassifier = SVC(kernel='sigmoid', gamma='auto')\n",
    "svclassifier.fit(X_train, Y_train)\n",
    "Y_predict=svclassifier.predict(X_test)\n",
    "\n",
    "from sklearn.metrics import classification_report\n",
    "print(classification_report(Y_test,Y_predict))\n",
    "\n",
    "from sklearn import metrics\n",
    "print(\"confusion matrix:\")\n",
    "print(metrics.confusion_matrix(Y_test,Y_predict))\n"
   ]
  },
  {
   "cell_type": "code",
   "execution_count": null,
   "metadata": {},
   "outputs": [],
   "source": [
    "features_mean= list(data.columns[1:11])\n"
   ]
  }
 ],
 "metadata": {
  "kernelspec": {
   "display_name": "Python 3",
   "language": "python",
   "name": "python3"
  },
  "language_info": {
   "codemirror_mode": {
    "name": "ipython",
    "version": 3
   },
   "file_extension": ".py",
   "mimetype": "text/x-python",
   "name": "python",
   "nbconvert_exporter": "python",
   "pygments_lexer": "ipython3",
   "version": "3.7.4"
  }
 },
 "nbformat": 4,
 "nbformat_minor": 2
}
